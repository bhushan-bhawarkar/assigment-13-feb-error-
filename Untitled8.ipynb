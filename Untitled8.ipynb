{
  "nbformat": 4,
  "nbformat_minor": 0,
  "metadata": {
    "colab": {
      "provenance": []
    },
    "kernelspec": {
      "name": "python3",
      "display_name": "Python 3"
    },
    "language_info": {
      "name": "python"
    }
  },
  "cells": [
    {
      "cell_type": "markdown",
      "source": [
        "Q1. Explain why we have to use the Exception class while creating a Custom Exception.\n",
        "Note: Here Exception class refers to the base class for all the exceptions."
      ],
      "metadata": {
        "id": "Cce_TI5p-9ZP"
      }
    },
    {
      "cell_type": "markdown",
      "source": [
        "When creating a custom exception in Python, it is recommended to derive the new exception class from the built-in Exception class, which is the base class for all the exceptions.\n",
        "\n",
        "This is because the Exception class provides a standardized way to handle and report errors in Python. It defines several methods and properties that can be used to access information about the exception, such as the error message and traceback information. By inheriting from this class, our custom exception can inherit these methods and properties, and we can take advantage of Python's built-in exception handling mechanisms."
      ],
      "metadata": {
        "id": "8is0_HWd--qS"
      }
    },
    {
      "cell_type": "markdown",
      "source": [
        "For example, if we define a custom exception class called MyException that inherits from the Exception class, we can raise an instance of this exception and catch it using the except statement:\n",
        "\n",
        "\n",
        "\n",
        "\n",
        "\n"
      ],
      "metadata": {
        "id": "VvQIc3q3_Q7q"
      }
    },
    {
      "cell_type": "code",
      "source": [
        "class  MyException(Exception):\n",
        "  pass\n",
        "\n",
        "\n",
        "try:\n",
        "  raise MyException(\"this is couston msg\")\n",
        "except MyException as e:\n",
        "  print(e)  \n",
        "\n",
        "\n",
        "    "
      ],
      "metadata": {
        "colab": {
          "base_uri": "https://localhost:8080/"
        },
        "id": "O6tU9hx6_XUy",
        "outputId": "7e08c52d-8213-4d6b-e8ff-c092b85585e6"
      },
      "execution_count": 1,
      "outputs": [
        {
          "output_type": "stream",
          "name": "stdout",
          "text": [
            "this is couston msg\n"
          ]
        }
      ]
    },
    {
      "cell_type": "markdown",
      "source": [
        "Q2. Write a python program to print Python Exception Hierarchy."
      ],
      "metadata": {
        "id": "JwbnRXFXAwUj"
      }
    },
    {
      "cell_type": "markdown",
      "source": [
        "function provides documentation on the specified object and lists the inheritance hierarchy of the specified object, which includes all the exceptions.\n",
        "\n",
        "Here's the code to print the Python Exception Hierarchy:"
      ],
      "metadata": {
        "id": "WQ9TXOE4M8AV"
      }
    },
    {
      "cell_type": "markdown",
      "source": [
        "Q3. What errors are defined in the ArithmeticError class? Explain any two with an example."
      ],
      "metadata": {
        "id": "Fx_vF1XDE4jj"
      }
    },
    {
      "cell_type": "markdown",
      "source": [
        "The ArithmeticError class is a subclass of the Exception class in Python, and is the base class for all errors that occur during arithmetic calculations. Here are some of the errors that are defined in the ArithmeticError class:\n",
        "\n",
        "FloatingPointError: Raised when a floating point calculation fails.\n",
        "\n",
        "OverflowError: Raised when the result of an arithmetic operation exceeds the maximum representable value.\n",
        "\n",
        "ZeroDivisionError: Raised when attempting to divide by zero.\n",
        "\n",
        "Here are two examples that demonstrate these errors:"
      ],
      "metadata": {
        "id": "G0zo98OqFOwm"
      }
    },
    {
      "cell_type": "code",
      "source": [
        "#FloatingPointError\n",
        "import math\n",
        "x = math.sqrt(-1)  # square root of negative number\n",
        "print(x)"
      ],
      "metadata": {
        "colab": {
          "base_uri": "https://localhost:8080/",
          "height": 218
        },
        "id": "rvAtJA43FQYL",
        "outputId": "311dc8ca-e0e9-4d20-c06a-f57b0ec56c07"
      },
      "execution_count": 2,
      "outputs": [
        {
          "output_type": "error",
          "ename": "ValueError",
          "evalue": "ignored",
          "traceback": [
            "\u001b[0;31m---------------------------------------------------------------------------\u001b[0m",
            "\u001b[0;31mValueError\u001b[0m                                Traceback (most recent call last)",
            "\u001b[0;32m<ipython-input-2-3805132707bd>\u001b[0m in \u001b[0;36m<module>\u001b[0;34m\u001b[0m\n\u001b[1;32m      1\u001b[0m \u001b[0;31m#FloatingPointError\u001b[0m\u001b[0;34m\u001b[0m\u001b[0;34m\u001b[0m\u001b[0;34m\u001b[0m\u001b[0m\n\u001b[1;32m      2\u001b[0m \u001b[0;32mimport\u001b[0m \u001b[0mmath\u001b[0m\u001b[0;34m\u001b[0m\u001b[0;34m\u001b[0m\u001b[0m\n\u001b[0;32m----> 3\u001b[0;31m \u001b[0mx\u001b[0m \u001b[0;34m=\u001b[0m \u001b[0mmath\u001b[0m\u001b[0;34m.\u001b[0m\u001b[0msqrt\u001b[0m\u001b[0;34m(\u001b[0m\u001b[0;34m-\u001b[0m\u001b[0;36m1\u001b[0m\u001b[0;34m)\u001b[0m  \u001b[0;31m# square root of negative number\u001b[0m\u001b[0;34m\u001b[0m\u001b[0;34m\u001b[0m\u001b[0m\n\u001b[0m\u001b[1;32m      4\u001b[0m \u001b[0mprint\u001b[0m\u001b[0;34m(\u001b[0m\u001b[0mx\u001b[0m\u001b[0;34m)\u001b[0m\u001b[0;34m\u001b[0m\u001b[0;34m\u001b[0m\u001b[0m\n",
            "\u001b[0;31mValueError\u001b[0m: math domain error"
          ]
        }
      ]
    },
    {
      "cell_type": "markdown",
      "source": [
        "In this example, we try to calculate the square root of a negative number using the math.sqrt function. This causes a ValueError to be raised with the message \"math domain error\", which is a subclass of ArithmeticError."
      ],
      "metadata": {
        "id": "hPuoQU0jGHyW"
      }
    },
    {
      "cell_type": "code",
      "source": [
        "#OverflowError\n",
        "\n",
        "x = 10 ** 1000  # 10 to the power of 1000\n",
        "print(x)"
      ],
      "metadata": {
        "colab": {
          "base_uri": "https://localhost:8080/"
        },
        "id": "nQEEOexmGJ83",
        "outputId": "876b5536-9296-4d86-c45f-7ea9d4f2763b"
      },
      "execution_count": 6,
      "outputs": [
        {
          "output_type": "stream",
          "name": "stdout",
          "text": [
            "10000000000000000000000000000000000000000000000000000000000000000000000000000000000000000000000000000000000000000000000000000000000000000000000000000000000000000000000000000000000000000000000000000000000000000000000000000000000000000000000000000000000000000000000000000000000000000000000000000000000000000000000000000000000000000000000000000000000000000000000000000000000000000000000000000000000000000000000000000000000000000000000000000000000000000000000000000000000000000000000000000000000000000000000000000000000000000000000000000000000000000000000000000000000000000000000000000000000000000000000000000000000000000000000000000000000000000000000000000000000000000000000000000000000000000000000000000000000000000000000000000000000000000000000000000000000000000000000000000000000000000000000000000000000000000000000000000000000000000000000000000000000000000000000000000000000000000000000000000000000000000000000000000000000000000000000000000000000000000000000000000000000000000000000000000000000000000\n"
          ]
        }
      ]
    },
    {
      "cell_type": "markdown",
      "source": [
        "In this example, we try to calculate 10 to the power of 1000, which is a very large number. This causes an OverflowError to be raised with the message \"Numerical result out of range\".\n",
        "\n",
        "By handling these errors in our code, we can make our programs more robust and prevent them from crashing or producing incorrect results when unexpected arithmetic errors occur."
      ],
      "metadata": {
        "id": "lmzP3t9NHIub"
      }
    },
    {
      "cell_type": "markdown",
      "source": [
        "Q4. Why LookupError class is used? Explain with an example KeyError and IndexError."
      ],
      "metadata": {
        "id": "UO4ZXFfzHYhz"
      }
    },
    {
      "cell_type": "markdown",
      "source": [
        "LookupError is a base class in Python's exception hierarchy that is used to handle errors when trying to access an invalid index or key in a data structure. It is a subclass of the built-in Exception class.\n",
        "\n",
        "Two common subclasses of LookupError are KeyError and IndexError. KeyError is raised when a dictionary key is not found, and IndexError is raised when attempting to access an index that is out of range in a list or other sequence.\n",
        "\n",
        "For example, consider the following dictionary:"
      ],
      "metadata": {
        "id": "eraLkHajHZlV"
      }
    },
    {
      "cell_type": "code",
      "source": [
        "#example of KeyError\n",
        "d = {\"name\":\"bhushan\",\"age\":12}\n",
        "print(d[\"key\"])\n"
      ],
      "metadata": {
        "colab": {
          "base_uri": "https://localhost:8080/",
          "height": 201
        },
        "id": "vGOsAxg0H9LH",
        "outputId": "3882c88c-fb70-4dda-f37e-b58b54d67f59"
      },
      "execution_count": 8,
      "outputs": [
        {
          "output_type": "error",
          "ename": "KeyError",
          "evalue": "ignored",
          "traceback": [
            "\u001b[0;31m---------------------------------------------------------------------------\u001b[0m",
            "\u001b[0;31mKeyError\u001b[0m                                  Traceback (most recent call last)",
            "\u001b[0;32m<ipython-input-8-0b745194336c>\u001b[0m in \u001b[0;36m<module>\u001b[0;34m\u001b[0m\n\u001b[1;32m      1\u001b[0m \u001b[0;31m#example of KeyError\u001b[0m\u001b[0;34m\u001b[0m\u001b[0;34m\u001b[0m\u001b[0;34m\u001b[0m\u001b[0m\n\u001b[1;32m      2\u001b[0m \u001b[0md\u001b[0m \u001b[0;34m=\u001b[0m \u001b[0;34m{\u001b[0m\u001b[0;34m\"name\"\u001b[0m\u001b[0;34m:\u001b[0m\u001b[0;34m\"bhushan\"\u001b[0m\u001b[0;34m,\u001b[0m\u001b[0;34m\"age\"\u001b[0m\u001b[0;34m:\u001b[0m\u001b[0;36m12\u001b[0m\u001b[0;34m}\u001b[0m\u001b[0;34m\u001b[0m\u001b[0;34m\u001b[0m\u001b[0m\n\u001b[0;32m----> 3\u001b[0;31m \u001b[0mprint\u001b[0m\u001b[0;34m(\u001b[0m\u001b[0md\u001b[0m\u001b[0;34m[\u001b[0m\u001b[0;34m\"key\"\u001b[0m\u001b[0;34m]\u001b[0m\u001b[0;34m)\u001b[0m\u001b[0;34m\u001b[0m\u001b[0;34m\u001b[0m\u001b[0m\n\u001b[0m",
            "\u001b[0;31mKeyError\u001b[0m: 'key'"
          ]
        }
      ]
    },
    {
      "cell_type": "code",
      "source": [
        "#example of IndexError\n",
        "l = [\"bhushan\",\"kunal\",5,7]\n",
        "print(l[4])\n"
      ],
      "metadata": {
        "colab": {
          "base_uri": "https://localhost:8080/",
          "height": 201
        },
        "id": "lfMzLd32IXvd",
        "outputId": "8dc2dbb7-ec68-453a-a442-9c8a95d117ec"
      },
      "execution_count": 10,
      "outputs": [
        {
          "output_type": "error",
          "ename": "IndexError",
          "evalue": "ignored",
          "traceback": [
            "\u001b[0;31m---------------------------------------------------------------------------\u001b[0m",
            "\u001b[0;31mIndexError\u001b[0m                                Traceback (most recent call last)",
            "\u001b[0;32m<ipython-input-10-6c4410afe811>\u001b[0m in \u001b[0;36m<module>\u001b[0;34m\u001b[0m\n\u001b[1;32m      1\u001b[0m \u001b[0;31m#example of IndexError\u001b[0m\u001b[0;34m\u001b[0m\u001b[0;34m\u001b[0m\u001b[0;34m\u001b[0m\u001b[0m\n\u001b[1;32m      2\u001b[0m \u001b[0ml\u001b[0m \u001b[0;34m=\u001b[0m \u001b[0;34m[\u001b[0m\u001b[0;34m\"bhushan\"\u001b[0m\u001b[0;34m,\u001b[0m\u001b[0;34m\"kunal\"\u001b[0m\u001b[0;34m,\u001b[0m\u001b[0;36m5\u001b[0m\u001b[0;34m,\u001b[0m\u001b[0;36m7\u001b[0m\u001b[0;34m]\u001b[0m\u001b[0;34m\u001b[0m\u001b[0;34m\u001b[0m\u001b[0m\n\u001b[0;32m----> 3\u001b[0;31m \u001b[0mprint\u001b[0m\u001b[0;34m(\u001b[0m\u001b[0ml\u001b[0m\u001b[0;34m[\u001b[0m\u001b[0;36m4\u001b[0m\u001b[0;34m]\u001b[0m\u001b[0;34m)\u001b[0m\u001b[0;34m\u001b[0m\u001b[0;34m\u001b[0m\u001b[0m\n\u001b[0m",
            "\u001b[0;31mIndexError\u001b[0m: list index out of range"
          ]
        }
      ]
    },
    {
      "cell_type": "markdown",
      "source": [
        "Q5. Explain ImportError. What is ModuleNotFoundError?"
      ],
      "metadata": {
        "id": "uPuR1kkoJgLx"
      }
    },
    {
      "cell_type": "markdown",
      "source": [
        "ImportError is a built-in Python exception that is raised when there is an error in importing a module. This can happen if the module doesn't exist, or if there is an error in the module's code that prevents it from being imported correctly.\n",
        "\n",
        "ModuleNotFoundError is a subclass of ImportError that specifically indicates that the module was not found. It was introduced in Python 3.6 as a more specific and clear way to indicate that an imported module could not be found.\n",
        "\n",
        "Prior to Python 3.6, if a module could not be found, an ImportError would be raised with a message that could be unclear and ambiguous, and could be caused by a variety of issues beyond just the module not existing. For example, it could be caused by a syntax error in the module code that prevented it from being compiled and imported.\n",
        "\n",
        "With the introduction of ModuleNotFoundError, the error message is now more specific and clearly indicates that the module could not be found. This helps with debugging and troubleshooting, as it makes it easier to identify the root cause of the issue.\n",
        "\n",
        "For example, in Python 3.6 and later versions, if we try to import a module that doesn't exist, we will get a ModuleNotFoundError:"
      ],
      "metadata": {
        "id": "h38BkMxGJhhf"
      }
    },
    {
      "cell_type": "code",
      "source": [
        "import bhushan"
      ],
      "metadata": {
        "colab": {
          "base_uri": "https://localhost:8080/",
          "height": 305
        },
        "id": "uajJRm_QKo9L",
        "outputId": "487b10fa-5d72-4a37-be7a-b8ebc03c3d9d"
      },
      "execution_count": 11,
      "outputs": [
        {
          "output_type": "error",
          "ename": "ModuleNotFoundError",
          "evalue": "ignored",
          "traceback": [
            "\u001b[0;31m---------------------------------------------------------------------------\u001b[0m",
            "\u001b[0;31mModuleNotFoundError\u001b[0m                       Traceback (most recent call last)",
            "\u001b[0;32m<ipython-input-11-28563415447c>\u001b[0m in \u001b[0;36m<module>\u001b[0;34m\u001b[0m\n\u001b[0;32m----> 1\u001b[0;31m \u001b[0;32mimport\u001b[0m \u001b[0mbhushan\u001b[0m\u001b[0;34m\u001b[0m\u001b[0;34m\u001b[0m\u001b[0m\n\u001b[0m",
            "\u001b[0;31mModuleNotFoundError\u001b[0m: No module named 'bhushan'",
            "",
            "\u001b[0;31m---------------------------------------------------------------------------\u001b[0;32m\nNOTE: If your import is failing due to a missing package, you can\nmanually install dependencies using either !pip or !apt.\n\nTo view examples of installing some common dependencies, click the\n\"Open Examples\" button below.\n\u001b[0;31m---------------------------------------------------------------------------\u001b[0m\n"
          ],
          "errorDetails": {
            "actions": [
              {
                "action": "open_url",
                "actionText": "Open Examples",
                "url": "/notebooks/snippets/importing_libraries.ipynb"
              }
            ]
          }
        }
      ]
    },
    {
      "cell_type": "markdown",
      "source": [
        "Q6. List down some best practices for exception handling in python.\n"
      ],
      "metadata": {
        "id": "BrpkEr1kLADm"
      }
    },
    {
      "cell_type": "markdown",
      "source": [
        "Here are some best practices for exception handling in Python:\n",
        "\n",
        "Handle specific exceptions: Catch specific exceptions instead of using a broad exception like Exception. This makes it easier to understand the source of the error and to handle it in a more targeted way.\n",
        "\n",
        "Use the finally block: Use the finally block to ensure that any resources opened in the try block are properly closed. The finally block is executed regardless of whether an exception occurred or not.\n",
        "\n",
        "Keep error messages simple and clear: Avoid cryptic or overly technical error messages that users may not understand. Keep the error messages simple, clear, and user-friendly.\n",
        "\n",
        "Don't hide exceptions: Avoid hiding exceptions and swallowing errors. Let the exception propagate up the call stack to the appropriate level, where it can be handled effectively.\n",
        "\n",
        "Use context managers: Use context managers like with statement to automatically clean up resources such as files, database connections, or network sockets.\n",
        "\n",
        "Log exceptions: Use a logging framework to log exceptions, along with relevant information like the time, location, and stack trace. This will help with debugging and troubleshooting.\n",
        "\n",
        "Use built-in exceptions whenever possible: Use built-in exceptions like ValueError, TypeError, and IndexError instead of creating custom exceptions. This makes the code more readable and easier to understand.\n",
        "\n",
        "Handle exceptions close to the source of the error: Handle exceptions as close to the source of the error as possible. This makes it easier to understand the context of the error and to handle it in a more targeted way.\n",
        "\n",
        "Document exceptions: Document the exceptions that a function or method can raise, along with the circumstances under which they are raised. This helps users of the function or method understand how to use it correctly and handle any errors that may occur.\n",
        "\n",
        "Test error handling: Test error handling as thoroughly as the rest of the code. This includes testing the various exception scenarios and ensuring that the appropriate exceptions are raised and handled correctly."
      ],
      "metadata": {
        "id": "CN8dOCy4LEwV"
      }
    }
  ]
}